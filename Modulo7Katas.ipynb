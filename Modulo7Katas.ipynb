{
 "cells": [
  {
   "cell_type": "code",
   "execution_count": 15,
   "metadata": {},
   "outputs": [],
   "source": [
    "#Comienza agregando dos variables, una para la entrada del usuario, con el nombre new_planet, \n",
    "# y otra variable para la lista de planetas, denominada planets.\n",
    "# Declara dos variables\n",
    "new_planet= \"\"\n",
    "planets= []"
   ]
  },
  {
   "cell_type": "code",
   "execution_count": 16,
   "metadata": {},
   "outputs": [
    {
     "name": "stdout",
     "output_type": "stream",
     "text": [
      "Ingresa nombre del planeta, para salir ingresa la palabra done\n",
      "['Mercurio', 'Venus', 'Tierra', 'Marte', 'Jupiter', 'done']\n"
     ]
    }
   ],
   "source": [
    "#Comenzando con las variables que acabas de crear, crearás un ciclo while. El ciclo while se ejecutará mientras \n",
    "# el new_planet no sea igual a la palabra 'done'.\n",
    "#Dentro del ciclo, comprobarás si la variable new_planet contiene un valor, que debería ser el nombre de un planeta. \n",
    "#Esta es una forma rápida de ver si el usuario ha introducido un valor. Si lo han hecho, tu código agregará (append) \n",
    "# ese valor a la variable planets.\n",
    "#Finalmente, usarás input para solicitar al usuario que ingrese un nuevo nombre de planeta o que escriba done si \n",
    "#ha terminado de ingresar nombres de planeta. Almacenará el valor de input en la variable new_planet.\n",
    "print(\"Ingresa nombre del planeta, para salir ingresa la palabra done\")\n",
    "while new_planet != \"done\":  \n",
    "    new_planet= input('Ingre nombre del planeta')\n",
    "    if new_planet:\n",
    "        planets.append(new_planet)\n",
    "print(planets)"
   ]
  },
  {
   "cell_type": "code",
   "execution_count": 17,
   "metadata": {},
   "outputs": [
    {
     "name": "stdout",
     "output_type": "stream",
     "text": [
      "Mercurio\n",
      "Venus\n",
      "Tierra\n",
      "Marte\n",
      "Jupiter\n",
      "done\n"
     ]
    }
   ],
   "source": [
    "#Crea un ciclo for para iterar sobre la lista planets. Puedes usar como nombre de la variable planet para cada planeta. \n",
    "# Dentro del ciclo for, recuerda utilizar print para mostrar cada planet.\n",
    "# Escribe tu ciclo for para iterar en una lista de planetas\n",
    "for planet in planets:\n",
    "  print(planet) \n"
   ]
  }
 ],
 "metadata": {
  "interpreter": {
   "hash": "48eff80c6c625ca6600c054d9c8314748ac49393d673bad7150c482d284f2d6b"
  },
  "kernelspec": {
   "display_name": "Python 3.10.2 64-bit",
   "language": "python",
   "name": "python3"
  },
  "language_info": {
   "codemirror_mode": {
    "name": "ipython",
    "version": 3
   },
   "file_extension": ".py",
   "mimetype": "text/x-python",
   "name": "python",
   "nbconvert_exporter": "python",
   "pygments_lexer": "ipython3",
   "version": "3.10.2"
  },
  "orig_nbformat": 4
 },
 "nbformat": 4,
 "nbformat_minor": 2
}
