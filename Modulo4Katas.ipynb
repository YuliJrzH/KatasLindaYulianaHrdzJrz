{
 "cells": [
  {
   "cell_type": "code",
   "execution_count": 16,
   "metadata": {},
   "outputs": [
    {
     "data": {
      "text/plain": [
       "['Interesting facts about the Moon',\n",
       " \" The Moon is Earth's only satellite\",\n",
       " ' There are several interesting facts about the Moon and how it affects life here on Earth',\n",
       " ' \\nOn average, the Moon moves 4cm away from the Earth every year',\n",
       " ' This yearly drift is not significant enough to cause immediate effects on Earth',\n",
       " ' The highest daylight temperature of the Moon is 127 C',\n",
       " '']"
      ]
     },
     "execution_count": 16,
     "metadata": {},
     "output_type": "execute_result"
    }
   ],
   "source": [
    "text = \"\"\"Interesting facts about the Moon. The Moon is Earth's only satellite. There are several interesting facts about the Moon and how it affects life here on Earth. \n",
    "On average, the Moon moves 4cm away from the Earth every year. This yearly drift is not significant enough to cause immediate effects on Earth. The highest daylight temperature of the Moon is 127 C.\"\"\"\n",
    "#Primero, divide el texto en cada oración para trabajar con su contenido:\n",
    "\n",
    "text.split(\".\")"
   ]
  },
  {
   "cell_type": "code",
   "execution_count": 8,
   "metadata": {},
   "outputs": [
    {
     "data": {
      "text/plain": [
       "['Hola mundo', 'yuli', '', '  .....']"
      ]
     },
     "execution_count": 8,
     "metadata": {},
     "output_type": "execute_result"
    }
   ],
   "source": [
    "t= \"Hola mundo@yuli@@  .....\" \n",
    "t.split(\"@\")"
   ]
  },
  {
   "cell_type": "code",
   "execution_count": 15,
   "metadata": {},
   "outputs": [
    {
     "data": {
      "text/plain": [
       "164"
      ]
     },
     "execution_count": 15,
     "metadata": {},
     "output_type": "execute_result"
    }
   ],
   "source": [
    "#Ahora, define algunas palabras clave para búsqueda que te ayudarán a determinar si una oración contiene un hecho.\n",
    "# Define las palabras pista: average, temperature y distance suenan bien\n",
    "text.find(\"average\")"
   ]
  },
  {
   "cell_type": "code",
   "execution_count": 13,
   "metadata": {},
   "outputs": [
    {
     "data": {
      "text/plain": [
       "326"
      ]
     },
     "execution_count": 13,
     "metadata": {},
     "output_type": "execute_result"
    }
   ],
   "source": [
    "text.find(\"temperature\")"
   ]
  },
  {
   "cell_type": "code",
   "execution_count": 17,
   "metadata": {},
   "outputs": [
    {
     "data": {
      "text/plain": [
       "-1"
      ]
     },
     "execution_count": 17,
     "metadata": {},
     "output_type": "execute_result"
    }
   ],
   "source": [
    "text.find(\"distance\")"
   ]
  },
  {
   "cell_type": "code",
   "execution_count": 36,
   "metadata": {},
   "outputs": [
    {
     "name": "stdout",
     "output_type": "stream",
     "text": [
      " \n",
      "On average, the Moon moves 4cm away from the Earth every year\n",
      " The highest daylight temperature of the Moon is 127 C\n"
     ]
    }
   ],
   "source": [
    "list_palabra=[\"average\",\"temperature\",\"distance\"]\n",
    "txtdividido=text.split(\".\")\n",
    "\n",
    "\n",
    "#Cre un bucle para imprimir solo datos sobre la Luna que estén relacionados con las palabras clave definidas anteriormente:\n",
    "# Ciclo for para recorrer la cadena\n",
    "\n",
    "for oracion in txtdividido:\n",
    "   # print(oracion)  \n",
    "    for clave in list_palabra:\n",
    "        if clave in oracion:\n",
    "            print(oracion)\n",
    "            \n",
    "       # print(clave) \n"
   ]
  },
  {
   "cell_type": "code",
   "execution_count": 29,
   "metadata": {},
   "outputs": [
    {
     "name": "stdout",
     "output_type": "stream",
     "text": [
      "['pluton', 'Tierra', 'pato', 'perro', 'gato', 'pelota', 'jupiter', 'saturno']\n",
      "pluton\n",
      "Tierra\n",
      "jupiter\n",
      "saturno\n"
     ]
    }
   ],
   "source": [
    "texto=\"pluton.Tierra.pato.perro.gato.pelota.jupiter.saturno\"\n",
    "textodividido= texto.split(\".\")\n",
    "print(textodividido)\n",
    "\n",
    "claves_animales=['pato', 'perro','gato']\n",
    "claves_planetas=['pluton','Tierra','jupiter','saturno']\n",
    "for oracion in textodividido: #oracion=pato \n",
    "    for oracion2 in claves_planetas: # oracion2= tierra\n",
    "        if oracion2 == oracion: #true, false , false, false, false, true ,false,false,false\n",
    "            print(oracion) #pluton, tierra, "
   ]
  },
  {
   "cell_type": "code",
   "execution_count": 34,
   "metadata": {},
   "outputs": [
    {
     "data": {
      "text/plain": [
       "'The highest daylight temperature of the Moon is 127 BV'"
      ]
     },
     "execution_count": 34,
     "metadata": {},
     "output_type": "execute_result"
    }
   ],
   "source": [
    "#Finalmente, actualiza el bucle(ciclo) para cambiar C a Celsius:\n",
    "# Ciclo para cambiar C a Celsius\n",
    "valor='Saturn has a daytime temperature of -170 degrees Celsius, while Mars has -28 Celsius.´'\n",
    "valor.replace('Saturn', 'mmm')\n",
    "oracion='The highest daylight temperature of the Moon is 127 C'\n",
    "oracion.replace('C' , 'BV')\n"
   ]
  },
  {
   "cell_type": "code",
   "execution_count": 35,
   "metadata": {},
   "outputs": [
    {
     "name": "stdout",
     "output_type": "stream",
     "text": [
      " \n",
      "On average, the Moon moves 4cm away from the Earth every year\n",
      " The highest daylight temperature of the Moon is 127 Celcius\n"
     ]
    }
   ],
   "source": [
    "list_palabra=[\"average\",\"temperature\",\"distance\"]\n",
    "txtdividido=text.split(\".\")\n",
    "for oracion in txtdividido:\n",
    "   # print(oracion)  \n",
    "    for clave in list_palabra:\n",
    "        if clave in oracion:\n",
    "            print(oracion.replace('C' , 'Celcius'))\n",
    "            "
   ]
  },
  {
   "cell_type": "code",
   "execution_count": null,
   "metadata": {},
   "outputs": [],
   "source": [
    "#En lugar de reemplazar las variables en una cadena larga como parte de un párrafo, utiliza la información para presentarla \n",
    "# en un formato tabular. El resultado debería verse así:\n",
    "\n",
    "#Gravity Facts about Ganymede\n",
    "#-------------------------------------------------------------------------------\n",
    "#Planet Name: Mars\n",
    "#Gravity on Ganymede: 1.4300000000000002 m/s2\n",
    "\n",
    "# Datos con los que vas a trabajar\n",
    "name = \"Moon\"\n",
    "gravity = 0.00162 # in kms\n",
    "planet = \"Earth\""
   ]
  },
  {
   "cell_type": "code",
   "execution_count": 19,
   "metadata": {},
   "outputs": [
    {
     "data": {
      "text/plain": [
       "'Gravity Facts About Ganymede'"
      ]
     },
     "execution_count": 19,
     "metadata": {},
     "output_type": "execute_result"
    }
   ],
   "source": [
    "#Primero, crea un título para el texto. Debido a que este texto trata sobre la gravedad en la Tierra y la Luna,\n",
    "#úsalo para crear un título significativo. Utiliza las variables en lugar de escribir.\n",
    "titulo= \"Gravity facts about ganymede\"\n",
    "titulo.title()"
   ]
  },
  {
   "cell_type": "code",
   "execution_count": 17,
   "metadata": {},
   "outputs": [
    {
     "name": "stdout",
     "output_type": "stream",
     "text": [
      "Nombre del planeta Earth \n",
      "Gravity en Moon: 1.6199999999999999 m/s2\n"
     ]
    }
   ],
   "source": [
    "#Ahora crea una plantilla de cadena multilínea para contener el resto de la información. En lugar de usar kilómetros, \n",
    "#debes convertir la distancia a metros multiplicando por 1,000.\n",
    "print(f'Nombre del planeta {planet} \\nGravity en {name}: {gravity * 1000} m/s2')"
   ]
  },
  {
   "cell_type": "code",
   "execution_count": 23,
   "metadata": {},
   "outputs": [
    {
     "name": "stdout",
     "output_type": "stream",
     "text": [
      "Gravity Facts About Ganymede \n",
      "--------------------------------------------\n",
      "Nombre del planeta: Earth \n",
      "Gravity en Moon: 1.6199999999999999 m/s2\n"
     ]
    }
   ],
   "source": [
    "#Finalmente, usa ambas variables para unir el título y los hechos.\n",
    "print(f'{titulo.title()} \\n--------------------------------------------\\nNombre del planeta: {planet} \\nGravity en {name}: {gravity * 1000} m/s2')"
   ]
  },
  {
   "cell_type": "code",
   "execution_count": 24,
   "metadata": {},
   "outputs": [
    {
     "name": "stdout",
     "output_type": "stream",
     "text": [
      "Gravity Facts About Ganymede \n",
      "--------------------------------------------\n",
      "Nombre del planeta: Marte  \n",
      "Gravity en Ganímedes: 1.4300000000000002 m/s2\n"
     ]
    }
   ],
   "source": [
    "#Ahora usa información de una luna diferente para ver si la plantilla todavía funciona.\n",
    "#Datos muestra:\n",
    "planeta = 'Marte '\n",
    "gravedad  = 0.00143\n",
    "nombre = 'Ganímedes'\n",
    "\n",
    "print(f'{titulo.title()} \\n--------------------------------------------\\nNombre del planeta: {planeta} \\nGravity en {nombre}: {gravedad * 1000} m/s2')"
   ]
  },
  {
   "cell_type": "code",
   "execution_count": 30,
   "metadata": {},
   "outputs": [
    {
     "name": "stdout",
     "output_type": "stream",
     "text": [
      "Gravity Facts About Ganymede\n",
      "Nombre del planeta: Marte , \n",
      " Gravity en Ganímedes: 0.00143  m/s\n"
     ]
    }
   ],
   "source": [
    "#La salida no muestra información sobre Marte. Todavía muestra información sobre la Luna. Esto sucede porque las cadenas\n",
    " #f están ansiosas en su evaluación, por lo que las variables una vez asignadas no se pueden reasignar. Para evitar \n",
    " # este problema, vuelva a hacer la plantilla para utilizar .format()\n",
    "print(f'{titulo.title()}')\n",
    "print(\"\"\"Nombre del planeta: {0}, \\n Gravity en Ganímedes: {1}  m/s\"\"\".format(planeta,gravedad))"
   ]
  }
 ],
 "metadata": {
  "interpreter": {
   "hash": "48eff80c6c625ca6600c054d9c8314748ac49393d673bad7150c482d284f2d6b"
  },
  "kernelspec": {
   "display_name": "Python 3.10.2 64-bit",
   "language": "python",
   "name": "python3"
  },
  "language_info": {
   "codemirror_mode": {
    "name": "ipython",
    "version": 3
   },
   "file_extension": ".py",
   "mimetype": "text/x-python",
   "name": "python",
   "nbconvert_exporter": "python",
   "pygments_lexer": "ipython3",
   "version": "3.10.2"
  },
  "orig_nbformat": 4
 },
 "nbformat": 4,
 "nbformat_minor": 2
}
