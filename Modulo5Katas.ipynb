{
 "cells": [
  {
   "cell_type": "code",
   "execution_count": 3,
   "metadata": {},
   "outputs": [],
   "source": [
    "#Exploremos cómo podemos crear un programa que pueda calcular la distancia entre dos planetas. \n",
    "#Comenzaremos usando dos distancias de planetas: Tierra (149.597.870 km) y Júpiter (778.547.200 km).\n",
    "tierra=149597870\n",
    "jupiter=778547200"
   ]
  },
  {
   "cell_type": "code",
   "execution_count": 5,
   "metadata": {},
   "outputs": [
    {
     "name": "stdout",
     "output_type": "stream",
     "text": [
      "628949330\n",
      "390577533.93\n"
     ]
    }
   ],
   "source": [
    "#Con los valores obtenidos, es el momento de añadir el código para realizar la operación. \n",
    "# Restarás el primer planeta del segundo para determinar la distancia en kilómetros. A continuación, \n",
    "# puedes convertir la distancia del kilómetro en millas multiplicándola por 0.621.\n",
    "distancia=jupiter-tierra\n",
    "print(distancia)\n",
    "conversion=distancia*0.621  \n",
    "print(conversion)"
   ]
  },
  {
   "cell_type": "code",
   "execution_count": 15,
   "metadata": {},
   "outputs": [],
   "source": [
    "#Usando input, agrega el código para leer la distancia del sol para cada planeta, considerando 2 planetas.\n",
    "# Almacenar las entradas del usuario\n",
    "distanciap1 = input('introduce la distancia del sol del planeta1')\n",
    "distanciap2 = input('introduce la distancia del sol del planeta2')"
   ]
  },
  {
   "cell_type": "code",
   "execution_count": 16,
   "metadata": {},
   "outputs": [],
   "source": [
    "#Debido a que input devuelve valores de cadena, necesitamos convertirlos en números. Para nuestro ejemplo, usaremos int\n",
    "distanciap1 = int(distanciap1)\n",
    "distanciap2 = int(distanciap2)"
   ]
  },
  {
   "cell_type": "code",
   "execution_count": 24,
   "metadata": {},
   "outputs": [
    {
     "name": "stdout",
     "output_type": "stream",
     "text": [
      "La diferencia del planeta 1 y del planeta 2:50300000\n",
      "Distancia en millas:31236300.0\n"
     ]
    }
   ],
   "source": [
    "#Con los valores almacenados como números, ahora puedes agregar el código para realizar el cálculo, restando el primer \n",
    "#planeta del segundo. Debido a que el segundo planeta podría ser un número mayor, usarás abs para convertirlo a un valor \n",
    "# absoluto. También agregarás el código para mostrar el resultado en millas multiplicando la distancia del kilómetro \n",
    "# por 0.621\n",
    "diferencia=distanciap2-distanciap1   \n",
    "print(\"La diferencia del planeta 1 y del planeta 2:\"+ str (abs(diferencia)))                 # Realizar el cálculo y determinar el valor absoluto\n",
    "convermillas=diferencia*0.621\n",
    "print(\"Distancia en millas:\"+ str (abs(convermillas)))"
   ]
  }
 ],
 "metadata": {
  "interpreter": {
   "hash": "48eff80c6c625ca6600c054d9c8314748ac49393d673bad7150c482d284f2d6b"
  },
  "kernelspec": {
   "display_name": "Python 3.10.2 64-bit",
   "language": "python",
   "name": "python3"
  },
  "language_info": {
   "codemirror_mode": {
    "name": "ipython",
    "version": 3
   },
   "file_extension": ".py",
   "mimetype": "text/x-python",
   "name": "python",
   "nbconvert_exporter": "python",
   "pygments_lexer": "ipython3",
   "version": "3.10.2"
  },
  "orig_nbformat": 4
 },
 "nbformat": 4,
 "nbformat_minor": 2
}
