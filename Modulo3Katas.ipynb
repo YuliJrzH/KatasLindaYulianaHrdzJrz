{
 "cells": [
  {
   "cell_type": "code",
   "execution_count": 1,
   "metadata": {},
   "outputs": [
    {
     "name": "stdout",
     "output_type": "stream",
     "text": [
      "a es igual a:1\n"
     ]
    }
   ],
   "source": [
    "a=1\n",
    "b=2\n",
    "if a==1:\n",
    " print(\"a es igual a:\" + str(a))\n",
    "else:\n",
    "    print(\"b\")"
   ]
  },
  {
   "cell_type": "code",
   "execution_count": 3,
   "metadata": {},
   "outputs": [
    {
     "name": "stdout",
     "output_type": "stream",
     "text": [
      "a es diferente de b\n"
     ]
    }
   ],
   "source": [
    "a=1\n",
    "b=2\n",
    "if a!=1:\n",
    " #print(\"a es igual a: \" + str(a)) \n",
    "    if b<a:\n",
    "        print(\"b es mayor de a\")\n",
    "    else: \n",
    "        print(\"el valor de b es: \" + str(b))     \n",
    "elif a!=b:\n",
    "    print(\"a es diferente de b\")\n",
    "else:\n",
    "    print(\"b\")"
   ]
  },
  {
   "cell_type": "code",
   "execution_count": 11,
   "metadata": {},
   "outputs": [
    {
     "name": "stdout",
     "output_type": "stream",
     "text": [
      "Un asteroide se acerca, y viaja a una velocidad de: 27 km/s.\n"
     ]
    }
   ],
   "source": [
    "\n",
    "#Para este ejercicio, escribirás una lógica condicional que imprima una advertencia si un asteroide se acerca a la Tierra \n",
    "#demasiado rápido. La velocidad del asteroide varía dependiendo de lo cerca que esté del sol, y cualquier \n",
    "# velocidad superior a 25 kilómetros por segundo (km/s) merece una advertencia.\n",
    "#Un asteroide se acerca, y viaja a una velocidad de 49 km/s.\n",
    "\n",
    "#Si el asteroide tiene una velocidad mayor a 25 (km/s) \n",
    "#si la velicidad es > a 25 (km/s) \n",
    "velocidad= 27 \n",
    "if velocidad > 25:\n",
    "    print(\"Un asteroide se acerca, y viaja a una velocidad de: \" + str(velocidad) + \" km/s.\")\n",
    "else:\n",
    "    print(\"Despejado\")\n"
   ]
  },
  {
   "cell_type": "code",
   "execution_count": 15,
   "metadata": {},
   "outputs": [
    {
     "name": "stdout",
     "output_type": "stream",
     "text": [
      "Hay uno que se dirige a la tierra ahora a una velocidad de: 19 km/s\n"
     ]
    }
   ],
   "source": [
    "#Si un asteroide entra en la atmósfera de la Tierra a una velocidad mayor o igual a 20 km/s,a veces produce un rayo de luz\n",
    "#que se puede ver desde la Tierra. Escribe la lógica condicional que usa declaraciones if, else, y elif para alertar\n",
    "#a las personas de todo el mundo que deben buscar un asteroide en el cielo. \n",
    "# ¡Hay uno que se dirige a la tierra ahora a una velocidad de 19 km/s!\n",
    "\n",
    "#Si el asteroide tiene una velocidad mayor o igual a 20 km/s\n",
    "#si velocidad es >= a 20 km/s alertar a las personas que busquen un asteroide en el cielo\n",
    "#si la velocidad es >20 alertar que un asteroide se dirige a la tierra\n",
    "velocidad=19 \n",
    "if velocidad>20:\n",
    "    print(\"Alerta a las personas de todo el mundo que busquen un asteroide en el cielo\")\n",
    "elif velocidad==20:\n",
    "     print(\"Alerta a las personas de todo el mundo que busquen un asteroide en el cielo\")\n",
    "else:\n",
    "    print(\"Hay uno que se dirige a la tierra ahora a una velocidad de: \" +str(velocidad)+ \" km/s\")\n"
   ]
  },
  {
   "cell_type": "code",
   "execution_count": null,
   "metadata": {},
   "outputs": [],
   "source": [
    "#En este ejercicio, aprenderás información más matizada sobre cuándo los asteroides representan un peligro para la Tierra,\n",
    "#  y utilizarás esa información para mejorar nuestro sistema de advertencia. Aquí está la nueva información que necesitas\n",
    "#  saber:*Los asteroides de menos de 25 metros en su dimensión más grande probablemente se quemarán a medida que entren \n",
    "# en la atmósfera de la Tierra.Si una pieza de un asteroide que es más grande que 25 metros pero más pequeña que 1000 metros\n",
    "# golpeara la Tierra, causaría mucho daño.También discutimos en el ejercicio anterior que:La velocidad del asteroide varía \n",
    "# en función de lo cerca que esté del sol, y cualquier velocidad superior a 25 kilómetros por segundo (km/s) merece una \n",
    "# advertencia.Si un asteroide entra en la atmósfera de la Tierra a una velocidad mayor o igual a 20 km/s, a veces produce \n",
    "# un rayo de luz que se puede ver desde la Tierra.Usando toda esta información, escribe un programa que emita la advertencia\n",
    "# o información correcta a la gente de la Tierra, según la velocidad y el tamaño de un asteroide. Utiliza instrucciones \n",
    "# if, else, y elif, así como los operadores and y or.\n",
    "\n",
    "#asteroides de menos de 25 metros en su dimensión más grande probablemente se quemaran\n",
    "#asteroides <25 m se quemara el asteroide\n",
    "#asteroide>25 pero <100m golpeara la tierra\n",
    "#velocidad >25 km/s del asteroide advertir  \n",
    "#asteroide >=20km/s produce rayo de luz \n",
    "\n"
   ]
  }
 ],
 "metadata": {
  "interpreter": {
   "hash": "48eff80c6c625ca6600c054d9c8314748ac49393d673bad7150c482d284f2d6b"
  },
  "kernelspec": {
   "display_name": "Python 3.10.2 64-bit",
   "language": "python",
   "name": "python3"
  },
  "language_info": {
   "codemirror_mode": {
    "name": "ipython",
    "version": 3
   },
   "file_extension": ".py",
   "mimetype": "text/x-python",
   "name": "python",
   "nbconvert_exporter": "python",
   "pygments_lexer": "ipython3",
   "version": "3.10.2"
  },
  "orig_nbformat": 4
 },
 "nbformat": 4,
 "nbformat_minor": 2
}
