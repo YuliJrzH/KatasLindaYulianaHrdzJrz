{
 "cells": [
  {
   "cell_type": "code",
   "execution_count": 15,
   "metadata": {},
   "outputs": [],
   "source": [
    "#Comienza por crear una función que necesite tres lecturas de combustible y devuelva un informe:\n",
    "# Función para leer 3 tanques de combustible y muestre el promedio\n",
    "def informe (lectura1,lectura2,lectura3):\n",
    "    t=(lectura1+lectura2+lectura3)/3\n",
    "    return f\"\"\" informe de tanques\n",
    "    tanque1: {lectura1}%\n",
    "    tanque2: {lectura2}%\n",
    "    tanque3: {lectura3}%\n",
    "    Porcentaje Total: {round(t)}%\n",
    "    \"\"\""
   ]
  },
  {
   "cell_type": "code",
   "execution_count": 37,
   "metadata": {},
   "outputs": [
    {
     "name": "stdout",
     "output_type": "stream",
     "text": [
      " informe de tanques\n",
      "    tanque1: 11%\n",
      "    tanque2: 94%\n",
      "    tanque3: 28%\n",
      "    Promedio: 44.333333333333336%\n",
      "    \n"
     ]
    }
   ],
   "source": [
    "\n",
    "#Ahora que hemos definido la función de informes, vamos a comprobarlo. Para esta misión, los tanques no están llenos:\n",
    "# Llamamos a la función que genera el reporte print(funcion(tanque1, tanque2, tanque3))\n",
    "print(informe(11,94,28))"
   ]
  },
  {
   "cell_type": "code",
   "execution_count": 17,
   "metadata": {},
   "outputs": [],
   "source": [
    "# Función promedio \n",
    "def promedio(valores):\n",
    "    total=sum(valores)\n",
    "    return total/(len(valores))"
   ]
  },
  {
   "cell_type": "code",
   "execution_count": 38,
   "metadata": {},
   "outputs": [
    {
     "data": {
      "text/plain": [
       "30.0"
      ]
     },
     "execution_count": 38,
     "metadata": {},
     "output_type": "execute_result"
    }
   ],
   "source": [
    "promedio([21,56,13])"
   ]
  },
  {
   "cell_type": "code",
   "execution_count": 19,
   "metadata": {},
   "outputs": [],
   "source": [
    "# Actualiza la función\n",
    "def informe (lectura1,lectura2,lectura3):\n",
    "    t=(lectura1+lectura2+lectura3)/3\n",
    "    return f\"\"\" informe de tanques\n",
    "    tanque1: {lectura1}%\n",
    "    tanque2: {lectura2}%\n",
    "    tanque3: {lectura3}%\n",
    "    Promedio: {promedio ([lectura1,lectura2,lectura3])}%\n",
    "    \"\"\""
   ]
  },
  {
   "cell_type": "code",
   "execution_count": 20,
   "metadata": {},
   "outputs": [
    {
     "name": "stdout",
     "output_type": "stream",
     "text": [
      " informe de tanques\n",
      "    tanque1: 98%\n",
      "    tanque2: 52%\n",
      "    tanque3: 34%\n",
      "    Promedio: 61.333333333333336%\n",
      "    \n"
     ]
    }
   ],
   "source": [
    "print(informe(98,52,34))"
   ]
  },
  {
   "cell_type": "code",
   "execution_count": null,
   "metadata": {},
   "outputs": [],
   "source": []
  },
  {
   "cell_type": "code",
   "execution_count": 40,
   "metadata": {},
   "outputs": [
    {
     "name": "stdout",
     "output_type": "stream",
     "text": [
      " Informe de la mision Luna\n",
      "    Hora de prelanzamiento: 13\n",
      "    combustible a la izquierda: 950000\n",
      "    Tiempo total de vuelo: 91\n",
      "    \n",
      " \n"
     ]
    }
   ],
   "source": [
    "## Función con un informe preciso de la misión. Considera hora de prelanzamiento, tiempo de vuelo, destino, \n",
    "# tanque externo y tanque interno\n",
    "def infP(hp,tv,d,te,ti):\n",
    " return f\"\"\" Informe de la mision {d}\n",
    "    Hora de prelanzamiento: {hp}\n",
    "    combustible a la izquierda: {te+ti}\n",
    "    Tiempo total de vuelo: {hp+tv}\n",
    "    \n",
    " \"\"\"\n",
    "print(infP(13,78, \"Luna\", 820000, 130000))"
   ]
  },
  {
   "cell_type": "code",
   "execution_count": 36,
   "metadata": {},
   "outputs": [
    {
     "name": "stdout",
     "output_type": "stream",
     "text": [
      " \n",
      "    Reporte mision Luna\n",
      "    Tiempo de viajes: 162 minutos\n",
      "    Tanques: 84000\n",
      "    \n",
      " \n"
     ]
    }
   ],
   "source": [
    "# Escribe tu nueva función de reporte considerando lo anterior \n",
    "def reportMision(destino,*minutos,**tanques):\n",
    " return f\"\"\" \n",
    "    Reporte mision {destino}\n",
    "    Tiempo de viajes: {sum(minutos)} minutos\n",
    "    Tanques: {sum(tanques.values())}\n",
    "    \n",
    " \"\"\"\n",
    "print(reportMision(\"Luna\", 30,33,14,85,tinterno=80000,texterno=4000))\n"
   ]
  },
  {
   "cell_type": "code",
   "execution_count": 41,
   "metadata": {},
   "outputs": [
    {
     "name": "stdout",
     "output_type": "stream",
     "text": [
      " Reporte mision Luna\n",
      "    Tiempo de viajes: 81 minutos\n",
      "    Tanques: 61000\n",
      "  interno tiene ---> 13000 galones left /n  externo tiene ---> 48000 galones left /n \n"
     ]
    }
   ],
   "source": [
    "# Escribe tu nueva función\n",
    "def reportMision(destino,*minutos,**tanques):\n",
    " report=f\"\"\" Reporte mision {destino}\n",
    "    Tiempo de viajes: {sum(minutos)} minutos\n",
    "    Tanques: {sum(tanques.values())}\n",
    " \"\"\"\n",
    " for key, value in tanques.items():\n",
    "        report += f\"\"\" {key} tiene ---> {value} galones left /n \"\"\"\n",
    " return report\n",
    "print(reportMision(\"Luna\",20,13,45,3, interno=13000, externo=48000))\n"
   ]
  }
 ],
 "metadata": {
  "interpreter": {
   "hash": "48eff80c6c625ca6600c054d9c8314748ac49393d673bad7150c482d284f2d6b"
  },
  "kernelspec": {
   "display_name": "Python 3.10.2 64-bit",
   "language": "python",
   "name": "python3"
  },
  "language_info": {
   "codemirror_mode": {
    "name": "ipython",
    "version": 3
   },
   "file_extension": ".py",
   "mimetype": "text/x-python",
   "name": "python",
   "nbconvert_exporter": "python",
   "pygments_lexer": "ipython3",
   "version": "3.10.2"
  },
  "orig_nbformat": 4
 },
 "nbformat": 4,
 "nbformat_minor": 2
}
