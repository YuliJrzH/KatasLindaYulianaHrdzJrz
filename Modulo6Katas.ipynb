{
 "cells": [
  {
   "cell_type": "code",
   "execution_count": 49,
   "metadata": {},
   "outputs": [
    {
     "name": "stdout",
     "output_type": "stream",
     "text": [
      "El numero de planetas en el sistema solar son: 8\n"
     ]
    }
   ],
   "source": [
    "#En primer lugar, crea una variable denominada planets. Agrega los ocho planetas (sin Plutón) a la lista. \n",
    "#A continuación, muestra el número de planetas.\n",
    "# Creamos la lista planets y la mostramos\n",
    "planets= ['Mercurio', 'Venus', 'tierra' , 'marte' , 'jupiter' ,'saturno' , 'urano' , 'neptuno']\n",
    "numplanets = len(planets)\n",
    "print('El numero de planetas en el sistema solar son:', numplanets)\n"
   ]
  },
  {
   "cell_type": "code",
   "execution_count": 50,
   "metadata": {},
   "outputs": [
    {
     "name": "stdout",
     "output_type": "stream",
     "text": [
      "El nomero de planetas en el sistema solar son:  9\n",
      "El ultimo planeta es:  Pluto\n",
      "['Mercurio', 'Venus', 'tierra', 'marte', 'jupiter', 'saturno', 'urano', 'neptuno', 'Pluto']\n"
     ]
    }
   ],
   "source": [
    "#Agrega a Plutón a la lista que creaste. Luego muestra tanto el número de planetas como el último planeta de la lista.\n",
    "# Agregamos a plutón y mostramos el último elemento\n",
    "planets.append('Pluto')\n",
    "numplanets = len(planets)\n",
    "print('El nomero de planetas en el sistema solar son: ', numplanets)\n",
    "print(\"El ultimo planeta es: \", planets[8])\n",
    "print(planets)"
   ]
  },
  {
   "cell_type": "code",
   "execution_count": 60,
   "metadata": {},
   "outputs": [],
   "source": [
    "\n",
    "#Es posible que debas trabajar con diferentes secciones de una lista. En nuestro ejemplo, queremos mostrar planetas \n",
    "# más cerca y más lejos del sol de un planeta que el usuario ingresa por teclado.\n",
    "#Comienza agregando el código para crear una lista con los planetas.\n",
    "# Lista de planetas\n",
    "planets= ['Mercurio', 'Venus', 'Tierra' , 'Marte' , 'Jupiter' ,'Saturno' , 'Urano' , 'Neptuno']"
   ]
  },
  {
   "cell_type": "code",
   "execution_count": 64,
   "metadata": {},
   "outputs": [
    {
     "name": "stdout",
     "output_type": "stream",
     "text": [
      "El planeta es: Tierra\n"
     ]
    }
   ],
   "source": [
    "#A continuación, agrega el código para solicitar al usuario un nombre. Debido a que las cadenas distinguen entre mayúsculas\n",
    "#y minúsculas en Python, pídale al usuario que use una letra mayúscula para comenzar el nombre del planeta.\n",
    "# Solicitamos el nombre de un planeta *Pista:  input()*\n",
    "datoUsuario= input(\"Ingrese nombre del planeta, por favor use una letra mayúscula para comenzar el nombre del planeta. : \")\n",
    "print(\"El planeta es:\", datoUsuario)"
   ]
  },
  {
   "cell_type": "code",
   "execution_count": 65,
   "metadata": {},
   "outputs": [
    {
     "name": "stdout",
     "output_type": "stream",
     "text": [
      "La posicion del planeta Tierra es:  3\n"
     ]
    }
   ],
   "source": [
    "#Para determinar qué planetas están más cerca que el que ingresó el usuario, debes encontrar dónde está el planeta en \n",
    "# la lista. Puedes utilizar index para realizar esta operación. Agrega el código para encontrar el índice del planeta.\n",
    "# Busca el planeta en la lista\n",
    "posicion = planets.index(datoUsuario)\n",
    "print('La posicion del planeta', datoUsuario, 'es: ', posicion + 1)"
   ]
  },
  {
   "cell_type": "code",
   "execution_count": 62,
   "metadata": {},
   "outputs": [
    {
     "name": "stdout",
     "output_type": "stream",
     "text": [
      "Los planetas más cercanos al sol son:  ['Mercurio', 'Venus', 'Tierra', 'Marte', 'Jupiter', 'Saturno']\n"
     ]
    }
   ],
   "source": [
    "#Con el índice determinado, ahora puedes agregar el código para mostrar los planetas más cercanos al sol.\n",
    "# Muestra los planetas más cercanos al sol\n",
    "planetasCercanosSol = planets[0:posicion]\n",
    "print('Los planetas más cercanos al sol son: ', planetasCercanosSol)"
   ]
  },
  {
   "cell_type": "code",
   "execution_count": 69,
   "metadata": {},
   "outputs": [
    {
     "name": "stdout",
     "output_type": "stream",
     "text": [
      "Los planetas más lejanos al sol son:  ['Marte', 'Jupiter', 'Saturno', 'Urano']\n"
     ]
    }
   ],
   "source": [
    "#Puedes usar el mismo índice para mostrar planetas más alejados del sol. Sin embargo, recuerda que el índice inicial \n",
    "# se incluye cuando usas un slice. Como resultado, tendrás que agregar 1 al valor. \n",
    "# Agrega el código para mostrar los planetas más alejados del sol.\n",
    "# Muestra los planetas más lejanos al sol\n",
    "planetasLejanosnosSol = planets[posicion +1:-1]\n",
    "print('Los planetas más lejanos al sol son: ', planetasLejanosnosSol)"
   ]
  }
 ],
 "metadata": {
  "interpreter": {
   "hash": "48eff80c6c625ca6600c054d9c8314748ac49393d673bad7150c482d284f2d6b"
  },
  "kernelspec": {
   "display_name": "Python 3.10.2 64-bit",
   "language": "python",
   "name": "python3"
  },
  "language_info": {
   "codemirror_mode": {
    "name": "ipython",
    "version": 3
   },
   "file_extension": ".py",
   "mimetype": "text/x-python",
   "name": "python",
   "nbconvert_exporter": "python",
   "pygments_lexer": "ipython3",
   "version": "3.10.2"
  },
  "orig_nbformat": 4
 },
 "nbformat": 4,
 "nbformat_minor": 2
}
