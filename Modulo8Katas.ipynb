{
 "cells": [
  {
   "cell_type": "code",
   "execution_count": 42,
   "metadata": {},
   "outputs": [],
   "source": [
    "#Agrega el código para crear un nuevo diccionario denominado 'planet'. Rellena con la siguiente información:\n",
    "#name: Mars\n",
    "#moons: 2\n",
    "# Crea un diccionario llamado planet con los datos propuestos\n",
    "planet = {\n",
    "    'name': 'Mars',\n",
    "    'moons': 2 \n",
    "}"
   ]
  },
  {
   "cell_type": "code",
   "execution_count": 43,
   "metadata": {},
   "outputs": [
    {
     "name": "stdout",
     "output_type": "stream",
     "text": [
      "Nombre del planeta:  Mars \n",
      "Numero de lunas:  2\n"
     ]
    }
   ],
   "source": [
    "#Para recuperar valores, puede utilizar el método get o corchetes ([ ]) con el nombre de la clave que desea recuperar.\n",
    "# Muestra el nombre del planeta y el número de lunas que tiene.\n",
    "#print(planet.get('name'))   \n",
    "print(\"Nombre del planeta: \" , planet['name'] , \"\\nNumero de lunas: \" , planet['moons'])\n"
   ]
  },
  {
   "cell_type": "code",
   "execution_count": 44,
   "metadata": {},
   "outputs": [
    {
     "name": "stdout",
     "output_type": "stream",
     "text": [
      "El planeta Mars tiene 2\n"
     ]
    }
   ],
   "source": [
    "print(\"El planeta\", planet.get('name'), \"tiene\", planet.get('moons'))"
   ]
  },
  {
   "cell_type": "code",
   "execution_count": 45,
   "metadata": {},
   "outputs": [],
   "source": [
    "#Agrega un nuevo valor con una clave de 'circunferencia (km)'. Este nuevo valor debería almacenar un diccionario\n",
    "#con las dos circunferencias del planeta:\n",
    "#polar: 6752\n",
    "#equatorial: 6792\n",
    "# Agrega la clave circunferencia con los datos proporcionados previament\n",
    "planet['circumferencia (km)'] = {\n",
    "    'polar': 6752,\n",
    "    'equatorial': 6792\n",
    "}"
   ]
  },
  {
   "cell_type": "code",
   "execution_count": 46,
   "metadata": {},
   "outputs": [
    {
     "name": "stdout",
     "output_type": "stream",
     "text": [
      "El planeta Mars tiene una circunferencia polar de 6752\n"
     ]
    }
   ],
   "source": [
    "#Imprime el nombre del planeta con su circunferencia polar.\n",
    "# Imprime el nombre del planeta con su circunferencia polar.\n",
    "print(f'El planeta {planet[\"name\"]} tiene una circunferencia polar de {planet[\"circumferencia (km)\"][\"polar\"]}')"
   ]
  },
  {
   "cell_type": "code",
   "execution_count": 47,
   "metadata": {},
   "outputs": [],
   "source": [
    "#En este escenario, calcularás tanto el número total de lunas en el sistema solar como el número promedio \n",
    "#de lunas que tiene un planeta.\n",
    "# Planets and moons\n",
    "\n",
    "planet_moons = {\n",
    "    'mercury': 0,\n",
    "    'venus': 0,\n",
    "    'earth': 1,\n",
    "    'mars': 2,\n",
    "    'jupiter': 79,\n",
    "    'saturn': 82,\n",
    "    'uranus': 27,\n",
    "    'neptune': 14,\n",
    "    'pluto': 5,\n",
    "    'haumea': 2,\n",
    "    'makemake': 1,\n",
    "    'eris': 1\n",
    "}"
   ]
  },
  {
   "cell_type": "code",
   "execution_count": 48,
   "metadata": {},
   "outputs": [],
   "source": [
    "#Agrega el código a continuación para determinar el número de lunas. Comienza almacenando el valo \n",
    "# values de planet_moons en una variable denominada moons. A continuación, almacena el número de planetas \n",
    "#en una variable denominada planets.\n",
    "# Añade el código para determinar el número de lunas.\n",
    "moons= planet_moons.values()\n",
    "planets= len(planet_moons.keys())"
   ]
  },
  {
   "cell_type": "code",
   "execution_count": 49,
   "metadata": {},
   "outputs": [
    {
     "name": "stdout",
     "output_type": "stream",
     "text": [
      "214\n"
     ]
    }
   ],
   "source": [
    "#Agrega el código para contar el número de lunas. Puedes hacerlo creando un ciclo for para iterar a través de \n",
    "#las lunas moons y agregándolos a una variable denominada total_moons. Finalmente calcule el promedio dividiendo \n",
    "#total_moons por planets e imprimiendo los resultados.\n",
    "# Agrega el código para contar el número de lunas. \n",
    "total_moons= 0\n",
    "for mp in moons:\n",
    "    total_moons= total_moons + mp\n",
    "    #print(mp)\n",
    "print(total_moons)\n",
    "#print(moons)"
   ]
  },
  {
   "cell_type": "code",
   "execution_count": 50,
   "metadata": {},
   "outputs": [
    {
     "name": "stdout",
     "output_type": "stream",
     "text": [
      "17.833333333333332\n"
     ]
    }
   ],
   "source": [
    "promedio= total_moons/planets\n",
    "print(promedio)"
   ]
  }
 ],
 "metadata": {
  "interpreter": {
   "hash": "48eff80c6c625ca6600c054d9c8314748ac49393d673bad7150c482d284f2d6b"
  },
  "kernelspec": {
   "display_name": "Python 3.10.2 64-bit",
   "language": "python",
   "name": "python3"
  },
  "language_info": {
   "codemirror_mode": {
    "name": "ipython",
    "version": 3
   },
   "file_extension": ".py",
   "mimetype": "text/x-python",
   "name": "python",
   "nbconvert_exporter": "python",
   "pygments_lexer": "ipython3",
   "version": "3.10.2"
  },
  "orig_nbformat": 4
 },
 "nbformat": 4,
 "nbformat_minor": 2
}
